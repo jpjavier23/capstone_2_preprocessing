{
 "cells": [
  {
   "cell_type": "markdown",
   "id": "35cc0851-bacb-4f97-81f4-ff129c817c39",
   "metadata": {},
   "source": [
    "# Introduction\n",
    "\n",
    "The goal of this project is to determine the factors that directly contribute to student success for this online program. Previous EDA showed that the distributions of numeric data did not differ between passing and failing students. One thing that was not accounted for during EDA was the weight of individual feature values. For this purpose, to reduce dimensionality, some extraneous features like 'weight' and 'is_banked' will be removed.\n",
    "\n",
    "Additionally, the new features created like assignment duration will be solidified in the new baseline DataFrame. This DataFrame will also reduce the number of data points by aggregating observations by activity type since a chi-squared test for independence concluded that it may still be related to the final outcome.\n",
    "\n",
    "Student, module, and assignment identities will be removed and aggregated to reduce the dimensionality for the resulting dummy variables. Since we are unable to gather more information about the unique characteristics associated with these identities, they will be treated as identifying names; which do not innately determine a student's outcome."
   ]
  },
  {
   "cell_type": "markdown",
   "id": "da58ad09-d042-4816-9afd-dba404e2dca4",
   "metadata": {},
   "source": [
    "## Loading libraries"
   ]
  },
  {
   "cell_type": "code",
   "execution_count": 3,
   "id": "0b2acd6c-6878-4024-84d6-8fb8a6d49d40",
   "metadata": {},
   "outputs": [],
   "source": [
    "#data manipulation and visualization\n",
    "import pandas as pd\n",
    "pd.options.display.max_columns = None\n",
    "import numpy as np\n",
    "import matplotlib.pyplot as plt\n",
    "import seaborn as sns\n",
    "import random\n",
    "import pickle\n",
    "\n",
    "# preprocessing and modeling\n",
    "from sklearn.ensemble import RandomForestClassifier\n",
    "from sklearn.metrics import accuracy_score, confusion_matrix, precision_score, recall_score, ConfusionMatrixDisplay, classification_report\n",
    "from sklearn.model_selection import RandomizedSearchCV, train_test_split\n",
    "from sklearn.preprocessing import OneHotEncoder, OrdinalEncoder, StandardScaler, Normalizer\n",
    "from sklearn.linear_model import LogisticRegression\n",
    "from scipy import stats\n",
    "from scipy import optimize\n",
    "from scipy import spatial\n",
    "\n",
    "from sklearn.tree import export_graphviz\n",
    "from IPython.display import Image\n",
    "import graphviz"
   ]
  },
  {
   "cell_type": "markdown",
   "id": "36141cd2-40a0-427e-b2a9-bb173fba93c2",
   "metadata": {},
   "source": [
    "## Loading statistical functions"
   ]
  },
  {
   "cell_type": "code",
   "execution_count": 5,
   "id": "82877a43",
   "metadata": {},
   "outputs": [],
   "source": [
    "def ecdf(data):\n",
    "    \"\"\"Compute ECDF for a one-dimensional array of measurements.\"\"\"\n",
    "    n = len(data)\n",
    "    x = np.sort(data)\n",
    "    y = np.arange(1, n + 1) / n\n",
    "    return x, y\n",
    "\n",
    "def pearson_r(x , y):\n",
    "    \"\"\"Compute Pearson correlation coefficient between two arrays.\"\"\"\n",
    "    corr_mat = np.corrcoef(x, y)\n",
    "    return corr_mat[0, 1]\n",
    "\n",
    "def bootstrap_replicate_1d(data, func):\n",
    "    \"\"\"Generate bootstrap replicate of 1D data.\"\"\"\n",
    "    bs_sample = np.random.choice(data, len(data))\n",
    "    return func(bs_sample)\n",
    "\n",
    "def draw_bs_reps(data, func, size = 1):\n",
    "    \"\"\"Draw bootstrap replicates.\"\"\"\n",
    "    bs_replicates = np.empty(size)\n",
    "    for i in range(size):\n",
    "        bs_replicates[i] = bootstrap_replicate_1d(data, func)\n",
    "    return bs_replicates\n",
    "\n",
    "def draw_bs_pairs_linreg(x, y, size = 1):\n",
    "    \"\"\"perform pairs bootstrap for linear regression\"\"\"\n",
    "    inds = np.arange(len(x))\n",
    "    bs_slope_reps = np.empty(size)\n",
    "    bs_intercept_reps = np.empty(size)\n",
    "    for i in range(size):\n",
    "        bs_inds = np.random.choice(inds, size = len(inds))\n",
    "        bs_x, bs_y = x[bs_inds], y[bs_inds]\n",
    "        bs_slope_reps[i], bs_intercept_reps[i] = np.polyfit(bs_x, bs_y, 1)\n",
    "    return bs_slope_reps, bs_intercept_reps\n",
    "\n",
    "def draw_bs_pairs(x, y, func, size = 1):\n",
    "    \"\"\"Perform pairs bootstrap for a single statistic.\"\"\"\n",
    "    inds = np.arange(len(x))\n",
    "    bs_replicates = np.empty(size)\n",
    "    for i in range(size):\n",
    "        bs_inds = np.random.choice(inds, size = len(inds))\n",
    "        bs_x, bs_y = x[bs_inds], y[bs_inds]\n",
    "        bs_replicates[i] = func(bs_x, bs_y)\n",
    "    return bs_replicates\n",
    "\n",
    "def permutation_sample(data1, data2):\n",
    "    \"\"\"Generate a permutation sample from two data sets.\"\"\"\n",
    "    data = np.concatenate((data1, data2))\n",
    "    permuted_data = np.random.permutation(data)\n",
    "    perm_sample_1 = permuted_data[:len(data1)]\n",
    "    perm_sample_2 = permuted_data[len(data1):]\n",
    "    return perm_sample_1, perm_sample_2\n",
    "\n",
    "def draw_perm_reps(data_1, data_2, func, size=1):\n",
    "    \"\"\"Generate multiple permutation replicates.\"\"\"\n",
    "    perm_replicates = np.empty(size)\n",
    "    for i in range(size):\n",
    "        perm_sample_1, perm_sample_2 = permutation_sample(data_1, data_2)\n",
    "        perm_replicates[i] = func(perm_sample_1, perm_sample_2)\n",
    "    return perm_replicates\n",
    "\n",
    "def diff_of_means(data_1, data_2):\n",
    "    \"\"\"Difference in means of two arrays.\"\"\"\n",
    "    diff = np.mean(data_1) - np.mean(data_2)\n",
    "    return diff\n",
    "\n",
    "def diff_frac(data_A, data_b):\n",
    "    frac_A = np.sum(data_A) / len(data_A)\n",
    "    frac_B = np.sum(data_B) / len(data_B)\n",
    "    return frac_B - frac_A\n",
    "\n",
    "def rmse(pred, obs):\n",
    "    return np.sqrt(((pred - obs) ** 2).mean())\n",
    "\n",
    "def mse(pred, obs):\n",
    "    return ((pred - obs) ** 2).mean()\n",
    "\n",
    "def bon_correct(alpha, n):\n",
    "    return (alpha/n)"
   ]
  },
  {
   "cell_type": "markdown",
   "id": "2163b71c-4338-4c26-9d0e-b926ba33849e",
   "metadata": {},
   "source": [
    "# Recleaning data\n",
    "\n",
    "Even after EDA, the data needs to be reevaluated based on the insights made during EDA.\n",
    "\n",
    "Goals:\n",
    "* Solidify the transformation of how long students took to complete each assessment.\n",
    "    * Since all dates are relative to the start of either the course or the module, we can easily convert the feature 'date_submitted' to 'duration'.\n",
    "    * It would be interesting to see how student outcomes relate to how long they took to complete an assignment.\n",
    "* Aggregate number of clicks per day to quantify student interactions with the material\n",
    "* Drop 'weight', 'is_banked', 'id_site', 'code_module', and 'code_presentation'.\n",
    "    * Innate identity of the modules, sites, and students requires too many assumptions to account for our analyses.\n",
    "    * 'weight' is a characteristic of the assignment which falls outside of the scope of this study since I am primarily concerned with features directly related to the students.\n",
    "    * 'is_banked' is more of an administrative feature that would highlight whether an assignment was transferred from a previous presentation. Because we do not know the characteristics of each assignment, we will consider the assignments independently.\n",
    "    * 'date_registration' will be left as is since having longer to complete the course may impact whether they pass or failed\n",
    "* Aggregate numerical features by 'id_student', 'id_asessment', and 'activity_type'"
   ]
  },
  {
   "cell_type": "markdown",
   "id": "5ef72a9d-c190-40c3-a599-d969c3857b5a",
   "metadata": {},
   "source": [
    "## Reloading the data"
   ]
  },
  {
   "cell_type": "markdown",
   "id": "aebec0c7-2e33-4327-9c39-f6ad0881dc26",
   "metadata": {},
   "source": [
    "We are still operating off the csv we wrangled for EDA. To track the transformation stages, I will be storing the new DataFrames as 'df#'."
   ]
  },
  {
   "cell_type": "code",
   "execution_count": 9,
   "id": "fde00356",
   "metadata": {},
   "outputs": [],
   "source": [
    "df0 = pd.read_csv('eda_stage.csv')"
   ]
  },
  {
   "cell_type": "code",
   "execution_count": 10,
   "id": "f073e7ba",
   "metadata": {},
   "outputs": [
    {
     "data": {
      "text/html": [
       "<div>\n",
       "<style scoped>\n",
       "    .dataframe tbody tr th:only-of-type {\n",
       "        vertical-align: middle;\n",
       "    }\n",
       "\n",
       "    .dataframe tbody tr th {\n",
       "        vertical-align: top;\n",
       "    }\n",
       "\n",
       "    .dataframe thead th {\n",
       "        text-align: right;\n",
       "    }\n",
       "</style>\n",
       "<table border=\"1\" class=\"dataframe\">\n",
       "  <thead>\n",
       "    <tr style=\"text-align: right;\">\n",
       "      <th></th>\n",
       "      <th>id_student</th>\n",
       "      <th>gender</th>\n",
       "      <th>disability</th>\n",
       "      <th>age_band</th>\n",
       "      <th>region</th>\n",
       "      <th>imd_band</th>\n",
       "      <th>highest_education</th>\n",
       "      <th>id_site</th>\n",
       "      <th>code_module</th>\n",
       "      <th>code_presentation</th>\n",
       "      <th>id_assessment</th>\n",
       "      <th>date_registration</th>\n",
       "      <th>num_of_prev_attempts</th>\n",
       "      <th>final_result</th>\n",
       "      <th>studied_credits</th>\n",
       "      <th>date_submitted</th>\n",
       "      <th>score</th>\n",
       "      <th>assessment_type</th>\n",
       "      <th>module_presentation_length</th>\n",
       "      <th>weight</th>\n",
       "      <th>is_banked</th>\n",
       "      <th>activity_type</th>\n",
       "      <th>date</th>\n",
       "      <th>sum_click</th>\n",
       "    </tr>\n",
       "  </thead>\n",
       "  <tbody>\n",
       "    <tr>\n",
       "      <th>0</th>\n",
       "      <td>2412002</td>\n",
       "      <td>Male</td>\n",
       "      <td>No</td>\n",
       "      <td>35-55</td>\n",
       "      <td>South West Region</td>\n",
       "      <td>50-60%</td>\n",
       "      <td>Lower Than A Level</td>\n",
       "      <td>546652</td>\n",
       "      <td>AAA</td>\n",
       "      <td>2013J</td>\n",
       "      <td>1752</td>\n",
       "      <td>-38</td>\n",
       "      <td>0</td>\n",
       "      <td>Distinction</td>\n",
       "      <td>90</td>\n",
       "      <td>20</td>\n",
       "      <td>86</td>\n",
       "      <td>TMA</td>\n",
       "      <td>268</td>\n",
       "      <td>10</td>\n",
       "      <td>No</td>\n",
       "      <td>forumng</td>\n",
       "      <td>19</td>\n",
       "      <td>1</td>\n",
       "    </tr>\n",
       "    <tr>\n",
       "      <th>1</th>\n",
       "      <td>2412002</td>\n",
       "      <td>Male</td>\n",
       "      <td>No</td>\n",
       "      <td>35-55</td>\n",
       "      <td>South West Region</td>\n",
       "      <td>50-60%</td>\n",
       "      <td>Lower Than A Level</td>\n",
       "      <td>546652</td>\n",
       "      <td>AAA</td>\n",
       "      <td>2013J</td>\n",
       "      <td>1752</td>\n",
       "      <td>-38</td>\n",
       "      <td>0</td>\n",
       "      <td>Distinction</td>\n",
       "      <td>90</td>\n",
       "      <td>20</td>\n",
       "      <td>86</td>\n",
       "      <td>TMA</td>\n",
       "      <td>268</td>\n",
       "      <td>10</td>\n",
       "      <td>No</td>\n",
       "      <td>forumng</td>\n",
       "      <td>19</td>\n",
       "      <td>1</td>\n",
       "    </tr>\n",
       "    <tr>\n",
       "      <th>2</th>\n",
       "      <td>2412002</td>\n",
       "      <td>Male</td>\n",
       "      <td>No</td>\n",
       "      <td>35-55</td>\n",
       "      <td>South West Region</td>\n",
       "      <td>50-60%</td>\n",
       "      <td>Lower Than A Level</td>\n",
       "      <td>546614</td>\n",
       "      <td>AAA</td>\n",
       "      <td>2013J</td>\n",
       "      <td>1752</td>\n",
       "      <td>-38</td>\n",
       "      <td>0</td>\n",
       "      <td>Distinction</td>\n",
       "      <td>90</td>\n",
       "      <td>20</td>\n",
       "      <td>86</td>\n",
       "      <td>TMA</td>\n",
       "      <td>268</td>\n",
       "      <td>10</td>\n",
       "      <td>No</td>\n",
       "      <td>homepage</td>\n",
       "      <td>19</td>\n",
       "      <td>10</td>\n",
       "    </tr>\n",
       "    <tr>\n",
       "      <th>3</th>\n",
       "      <td>2412002</td>\n",
       "      <td>Male</td>\n",
       "      <td>No</td>\n",
       "      <td>35-55</td>\n",
       "      <td>South West Region</td>\n",
       "      <td>50-60%</td>\n",
       "      <td>Lower Than A Level</td>\n",
       "      <td>546876</td>\n",
       "      <td>AAA</td>\n",
       "      <td>2013J</td>\n",
       "      <td>1752</td>\n",
       "      <td>-38</td>\n",
       "      <td>0</td>\n",
       "      <td>Distinction</td>\n",
       "      <td>90</td>\n",
       "      <td>20</td>\n",
       "      <td>86</td>\n",
       "      <td>TMA</td>\n",
       "      <td>268</td>\n",
       "      <td>10</td>\n",
       "      <td>No</td>\n",
       "      <td>subpage</td>\n",
       "      <td>19</td>\n",
       "      <td>2</td>\n",
       "    </tr>\n",
       "    <tr>\n",
       "      <th>4</th>\n",
       "      <td>2412002</td>\n",
       "      <td>Male</td>\n",
       "      <td>No</td>\n",
       "      <td>35-55</td>\n",
       "      <td>South West Region</td>\n",
       "      <td>50-60%</td>\n",
       "      <td>Lower Than A Level</td>\n",
       "      <td>546871</td>\n",
       "      <td>AAA</td>\n",
       "      <td>2013J</td>\n",
       "      <td>1752</td>\n",
       "      <td>-38</td>\n",
       "      <td>0</td>\n",
       "      <td>Distinction</td>\n",
       "      <td>90</td>\n",
       "      <td>20</td>\n",
       "      <td>86</td>\n",
       "      <td>TMA</td>\n",
       "      <td>268</td>\n",
       "      <td>10</td>\n",
       "      <td>No</td>\n",
       "      <td>subpage</td>\n",
       "      <td>19</td>\n",
       "      <td>1</td>\n",
       "    </tr>\n",
       "  </tbody>\n",
       "</table>\n",
       "</div>"
      ],
      "text/plain": [
       "   id_student gender disability age_band             region imd_band  \\\n",
       "0     2412002   Male         No    35-55  South West Region   50-60%   \n",
       "1     2412002   Male         No    35-55  South West Region   50-60%   \n",
       "2     2412002   Male         No    35-55  South West Region   50-60%   \n",
       "3     2412002   Male         No    35-55  South West Region   50-60%   \n",
       "4     2412002   Male         No    35-55  South West Region   50-60%   \n",
       "\n",
       "    highest_education  id_site code_module code_presentation  id_assessment  \\\n",
       "0  Lower Than A Level   546652         AAA             2013J           1752   \n",
       "1  Lower Than A Level   546652         AAA             2013J           1752   \n",
       "2  Lower Than A Level   546614         AAA             2013J           1752   \n",
       "3  Lower Than A Level   546876         AAA             2013J           1752   \n",
       "4  Lower Than A Level   546871         AAA             2013J           1752   \n",
       "\n",
       "   date_registration  num_of_prev_attempts final_result  studied_credits  \\\n",
       "0                -38                     0  Distinction               90   \n",
       "1                -38                     0  Distinction               90   \n",
       "2                -38                     0  Distinction               90   \n",
       "3                -38                     0  Distinction               90   \n",
       "4                -38                     0  Distinction               90   \n",
       "\n",
       "   date_submitted  score assessment_type  module_presentation_length  weight  \\\n",
       "0              20     86             TMA                         268      10   \n",
       "1              20     86             TMA                         268      10   \n",
       "2              20     86             TMA                         268      10   \n",
       "3              20     86             TMA                         268      10   \n",
       "4              20     86             TMA                         268      10   \n",
       "\n",
       "  is_banked activity_type  date  sum_click  \n",
       "0        No       forumng    19          1  \n",
       "1        No       forumng    19          1  \n",
       "2        No      homepage    19         10  \n",
       "3        No       subpage    19          2  \n",
       "4        No       subpage    19          1  "
      ]
     },
     "execution_count": 10,
     "metadata": {},
     "output_type": "execute_result"
    }
   ],
   "source": [
    "df0.head()"
   ]
  },
  {
   "cell_type": "code",
   "execution_count": 11,
   "id": "60d995e5-52a2-4608-be08-afa418ffcfc7",
   "metadata": {},
   "outputs": [
    {
     "data": {
      "text/plain": [
       "(534781, 24)"
      ]
     },
     "execution_count": 11,
     "metadata": {},
     "output_type": "execute_result"
    }
   ],
   "source": [
    "df0.shape"
   ]
  },
  {
   "cell_type": "code",
   "execution_count": 12,
   "id": "5bbe3e44-0fed-49cb-9a50-2c0ff31991d1",
   "metadata": {},
   "outputs": [
    {
     "name": "stdout",
     "output_type": "stream",
     "text": [
      "<class 'pandas.core.frame.DataFrame'>\n",
      "RangeIndex: 534781 entries, 0 to 534780\n",
      "Data columns (total 24 columns):\n",
      " #   Column                      Non-Null Count   Dtype \n",
      "---  ------                      --------------   ----- \n",
      " 0   id_student                  534781 non-null  int64 \n",
      " 1   gender                      534781 non-null  object\n",
      " 2   disability                  534781 non-null  object\n",
      " 3   age_band                    534781 non-null  object\n",
      " 4   region                      534781 non-null  object\n",
      " 5   imd_band                    534781 non-null  object\n",
      " 6   highest_education           534781 non-null  object\n",
      " 7   id_site                     534781 non-null  int64 \n",
      " 8   code_module                 534781 non-null  object\n",
      " 9   code_presentation           534781 non-null  object\n",
      " 10  id_assessment               534781 non-null  int64 \n",
      " 11  date_registration           534781 non-null  int64 \n",
      " 12  num_of_prev_attempts        534781 non-null  int64 \n",
      " 13  final_result                534781 non-null  object\n",
      " 14  studied_credits             534781 non-null  int64 \n",
      " 15  date_submitted              534781 non-null  int64 \n",
      " 16  score                       534781 non-null  int64 \n",
      " 17  assessment_type             534781 non-null  object\n",
      " 18  module_presentation_length  534781 non-null  int64 \n",
      " 19  weight                      534781 non-null  int64 \n",
      " 20  is_banked                   534781 non-null  object\n",
      " 21  activity_type               534781 non-null  object\n",
      " 22  date                        534781 non-null  int64 \n",
      " 23  sum_click                   534781 non-null  int64 \n",
      "dtypes: int64(12), object(12)\n",
      "memory usage: 97.9+ MB\n"
     ]
    }
   ],
   "source": [
    "df0.info()"
   ]
  },
  {
   "cell_type": "code",
   "execution_count": 13,
   "id": "075ad0e4-cf6e-460c-a0a6-5e14c9d12bcd",
   "metadata": {},
   "outputs": [
    {
     "data": {
      "text/html": [
       "<div>\n",
       "<style scoped>\n",
       "    .dataframe tbody tr th:only-of-type {\n",
       "        vertical-align: middle;\n",
       "    }\n",
       "\n",
       "    .dataframe tbody tr th {\n",
       "        vertical-align: top;\n",
       "    }\n",
       "\n",
       "    .dataframe thead th {\n",
       "        text-align: right;\n",
       "    }\n",
       "</style>\n",
       "<table border=\"1\" class=\"dataframe\">\n",
       "  <thead>\n",
       "    <tr style=\"text-align: right;\">\n",
       "      <th></th>\n",
       "      <th>id_student</th>\n",
       "      <th>id_site</th>\n",
       "      <th>id_assessment</th>\n",
       "      <th>date_registration</th>\n",
       "      <th>num_of_prev_attempts</th>\n",
       "      <th>studied_credits</th>\n",
       "      <th>date_submitted</th>\n",
       "      <th>score</th>\n",
       "      <th>module_presentation_length</th>\n",
       "      <th>weight</th>\n",
       "      <th>date</th>\n",
       "      <th>sum_click</th>\n",
       "    </tr>\n",
       "  </thead>\n",
       "  <tbody>\n",
       "    <tr>\n",
       "      <th>count</th>\n",
       "      <td>5.347810e+05</td>\n",
       "      <td>5.347810e+05</td>\n",
       "      <td>534781.000000</td>\n",
       "      <td>534781.000000</td>\n",
       "      <td>534781.000000</td>\n",
       "      <td>534781.000000</td>\n",
       "      <td>534781.000000</td>\n",
       "      <td>534781.000000</td>\n",
       "      <td>534781.000000</td>\n",
       "      <td>534781.000000</td>\n",
       "      <td>534781.000000</td>\n",
       "      <td>534781.000000</td>\n",
       "    </tr>\n",
       "    <tr>\n",
       "      <th>mean</th>\n",
       "      <td>7.127787e+05</td>\n",
       "      <td>7.263949e+05</td>\n",
       "      <td>28436.897968</td>\n",
       "      <td>-64.392058</td>\n",
       "      <td>0.162405</td>\n",
       "      <td>81.699219</td>\n",
       "      <td>127.952180</td>\n",
       "      <td>76.409983</td>\n",
       "      <td>254.948194</td>\n",
       "      <td>9.646102</td>\n",
       "      <td>142.566363</td>\n",
       "      <td>4.769915</td>\n",
       "    </tr>\n",
       "    <tr>\n",
       "      <th>std</th>\n",
       "      <td>5.675385e+05</td>\n",
       "      <td>1.314079e+05</td>\n",
       "      <td>8205.247185</td>\n",
       "      <td>46.124150</td>\n",
       "      <td>0.471151</td>\n",
       "      <td>39.871460</td>\n",
       "      <td>75.137527</td>\n",
       "      <td>17.549058</td>\n",
       "      <td>13.819019</td>\n",
       "      <td>10.782572</td>\n",
       "      <td>79.696081</td>\n",
       "      <td>11.630602</td>\n",
       "    </tr>\n",
       "    <tr>\n",
       "      <th>min</th>\n",
       "      <td>6.516000e+03</td>\n",
       "      <td>5.267210e+05</td>\n",
       "      <td>1752.000000</td>\n",
       "      <td>-310.000000</td>\n",
       "      <td>0.000000</td>\n",
       "      <td>30.000000</td>\n",
       "      <td>-8.000000</td>\n",
       "      <td>0.000000</td>\n",
       "      <td>234.000000</td>\n",
       "      <td>0.000000</td>\n",
       "      <td>12.000000</td>\n",
       "      <td>1.000000</td>\n",
       "    </tr>\n",
       "    <tr>\n",
       "      <th>25%</th>\n",
       "      <td>4.974100e+05</td>\n",
       "      <td>5.510670e+05</td>\n",
       "      <td>24295.000000</td>\n",
       "      <td>-92.000000</td>\n",
       "      <td>0.000000</td>\n",
       "      <td>60.000000</td>\n",
       "      <td>54.000000</td>\n",
       "      <td>67.000000</td>\n",
       "      <td>240.000000</td>\n",
       "      <td>0.000000</td>\n",
       "      <td>67.000000</td>\n",
       "      <td>1.000000</td>\n",
       "    </tr>\n",
       "    <tr>\n",
       "      <th>50%</th>\n",
       "      <td>5.815520e+05</td>\n",
       "      <td>7.169890e+05</td>\n",
       "      <td>34861.000000</td>\n",
       "      <td>-52.000000</td>\n",
       "      <td>0.000000</td>\n",
       "      <td>60.000000</td>\n",
       "      <td>131.000000</td>\n",
       "      <td>80.000000</td>\n",
       "      <td>261.000000</td>\n",
       "      <td>7.000000</td>\n",
       "      <td>149.000000</td>\n",
       "      <td>2.000000</td>\n",
       "    </tr>\n",
       "    <tr>\n",
       "      <th>75%</th>\n",
       "      <td>6.346360e+05</td>\n",
       "      <td>8.325670e+05</td>\n",
       "      <td>34888.000000</td>\n",
       "      <td>-28.000000</td>\n",
       "      <td>0.000000</td>\n",
       "      <td>120.000000</td>\n",
       "      <td>201.000000</td>\n",
       "      <td>89.000000</td>\n",
       "      <td>268.000000</td>\n",
       "      <td>18.000000</td>\n",
       "      <td>222.000000</td>\n",
       "      <td>4.000000</td>\n",
       "    </tr>\n",
       "    <tr>\n",
       "      <th>max</th>\n",
       "      <td>2.698588e+06</td>\n",
       "      <td>1.046237e+06</td>\n",
       "      <td>37443.000000</td>\n",
       "      <td>101.000000</td>\n",
       "      <td>6.000000</td>\n",
       "      <td>630.000000</td>\n",
       "      <td>285.000000</td>\n",
       "      <td>100.000000</td>\n",
       "      <td>269.000000</td>\n",
       "      <td>100.000000</td>\n",
       "      <td>261.000000</td>\n",
       "      <td>655.000000</td>\n",
       "    </tr>\n",
       "  </tbody>\n",
       "</table>\n",
       "</div>"
      ],
      "text/plain": [
       "         id_student       id_site  id_assessment  date_registration  \\\n",
       "count  5.347810e+05  5.347810e+05  534781.000000      534781.000000   \n",
       "mean   7.127787e+05  7.263949e+05   28436.897968         -64.392058   \n",
       "std    5.675385e+05  1.314079e+05    8205.247185          46.124150   \n",
       "min    6.516000e+03  5.267210e+05    1752.000000        -310.000000   \n",
       "25%    4.974100e+05  5.510670e+05   24295.000000         -92.000000   \n",
       "50%    5.815520e+05  7.169890e+05   34861.000000         -52.000000   \n",
       "75%    6.346360e+05  8.325670e+05   34888.000000         -28.000000   \n",
       "max    2.698588e+06  1.046237e+06   37443.000000         101.000000   \n",
       "\n",
       "       num_of_prev_attempts  studied_credits  date_submitted          score  \\\n",
       "count         534781.000000    534781.000000   534781.000000  534781.000000   \n",
       "mean               0.162405        81.699219      127.952180      76.409983   \n",
       "std                0.471151        39.871460       75.137527      17.549058   \n",
       "min                0.000000        30.000000       -8.000000       0.000000   \n",
       "25%                0.000000        60.000000       54.000000      67.000000   \n",
       "50%                0.000000        60.000000      131.000000      80.000000   \n",
       "75%                0.000000       120.000000      201.000000      89.000000   \n",
       "max                6.000000       630.000000      285.000000     100.000000   \n",
       "\n",
       "       module_presentation_length         weight           date      sum_click  \n",
       "count               534781.000000  534781.000000  534781.000000  534781.000000  \n",
       "mean                   254.948194       9.646102     142.566363       4.769915  \n",
       "std                     13.819019      10.782572      79.696081      11.630602  \n",
       "min                    234.000000       0.000000      12.000000       1.000000  \n",
       "25%                    240.000000       0.000000      67.000000       1.000000  \n",
       "50%                    261.000000       7.000000     149.000000       2.000000  \n",
       "75%                    268.000000      18.000000     222.000000       4.000000  \n",
       "max                    269.000000     100.000000     261.000000     655.000000  "
      ]
     },
     "execution_count": 13,
     "metadata": {},
     "output_type": "execute_result"
    }
   ],
   "source": [
    "df0.describe()"
   ]
  },
  {
   "cell_type": "code",
   "execution_count": 14,
   "id": "cb335d05-d200-4ee9-898e-6811fc1aa355",
   "metadata": {},
   "outputs": [],
   "source": [
    "numeric_names = ['studied_credits', 'weight', 'sum_click', 'date_registration']"
   ]
  },
  {
   "cell_type": "code",
   "execution_count": 15,
   "id": "5f703e23-5556-44eb-ae6d-b237aec3f50a",
   "metadata": {},
   "outputs": [
    {
     "data": {
      "text/html": [
       "<div>\n",
       "<style scoped>\n",
       "    .dataframe tbody tr th:only-of-type {\n",
       "        vertical-align: middle;\n",
       "    }\n",
       "\n",
       "    .dataframe tbody tr th {\n",
       "        vertical-align: top;\n",
       "    }\n",
       "\n",
       "    .dataframe thead th {\n",
       "        text-align: right;\n",
       "    }\n",
       "</style>\n",
       "<table border=\"1\" class=\"dataframe\">\n",
       "  <thead>\n",
       "    <tr style=\"text-align: right;\">\n",
       "      <th></th>\n",
       "      <th>id_student</th>\n",
       "      <th>id_site</th>\n",
       "      <th>id_assessment</th>\n",
       "      <th>date_registration</th>\n",
       "      <th>num_of_prev_attempts</th>\n",
       "      <th>studied_credits</th>\n",
       "      <th>date_submitted</th>\n",
       "      <th>score</th>\n",
       "      <th>module_presentation_length</th>\n",
       "      <th>weight</th>\n",
       "      <th>date</th>\n",
       "      <th>sum_click</th>\n",
       "    </tr>\n",
       "  </thead>\n",
       "  <tbody>\n",
       "    <tr>\n",
       "      <th>count</th>\n",
       "      <td>4.835370e+05</td>\n",
       "      <td>4.835370e+05</td>\n",
       "      <td>483537.000000</td>\n",
       "      <td>483537.000000</td>\n",
       "      <td>483537.000000</td>\n",
       "      <td>483537.000000</td>\n",
       "      <td>483537.000000</td>\n",
       "      <td>483537.000000</td>\n",
       "      <td>483537.000000</td>\n",
       "      <td>483537.000000</td>\n",
       "      <td>483537.000000</td>\n",
       "      <td>483537.000000</td>\n",
       "    </tr>\n",
       "    <tr>\n",
       "      <th>mean</th>\n",
       "      <td>7.119907e+05</td>\n",
       "      <td>7.249904e+05</td>\n",
       "      <td>28575.109431</td>\n",
       "      <td>-62.346881</td>\n",
       "      <td>0.154559</td>\n",
       "      <td>78.875898</td>\n",
       "      <td>125.885227</td>\n",
       "      <td>76.641467</td>\n",
       "      <td>254.939765</td>\n",
       "      <td>9.343591</td>\n",
       "      <td>140.691844</td>\n",
       "      <td>3.305985</td>\n",
       "    </tr>\n",
       "    <tr>\n",
       "      <th>std</th>\n",
       "      <td>5.644772e+05</td>\n",
       "      <td>1.311824e+05</td>\n",
       "      <td>8053.262105</td>\n",
       "      <td>39.911590</td>\n",
       "      <td>0.459023</td>\n",
       "      <td>33.088866</td>\n",
       "      <td>74.861275</td>\n",
       "      <td>17.501694</td>\n",
       "      <td>13.847519</td>\n",
       "      <td>9.595551</td>\n",
       "      <td>79.781176</td>\n",
       "      <td>4.182204</td>\n",
       "    </tr>\n",
       "    <tr>\n",
       "      <th>min</th>\n",
       "      <td>6.516000e+03</td>\n",
       "      <td>5.267210e+05</td>\n",
       "      <td>1752.000000</td>\n",
       "      <td>-172.000000</td>\n",
       "      <td>0.000000</td>\n",
       "      <td>30.000000</td>\n",
       "      <td>-8.000000</td>\n",
       "      <td>0.000000</td>\n",
       "      <td>234.000000</td>\n",
       "      <td>0.000000</td>\n",
       "      <td>12.000000</td>\n",
       "      <td>1.000000</td>\n",
       "    </tr>\n",
       "    <tr>\n",
       "      <th>25%</th>\n",
       "      <td>5.013360e+05</td>\n",
       "      <td>5.510410e+05</td>\n",
       "      <td>24296.000000</td>\n",
       "      <td>-88.000000</td>\n",
       "      <td>0.000000</td>\n",
       "      <td>60.000000</td>\n",
       "      <td>53.000000</td>\n",
       "      <td>67.000000</td>\n",
       "      <td>240.000000</td>\n",
       "      <td>0.000000</td>\n",
       "      <td>54.000000</td>\n",
       "      <td>1.000000</td>\n",
       "    </tr>\n",
       "    <tr>\n",
       "      <th>50%</th>\n",
       "      <td>5.826700e+05</td>\n",
       "      <td>7.167450e+05</td>\n",
       "      <td>34861.000000</td>\n",
       "      <td>-52.000000</td>\n",
       "      <td>0.000000</td>\n",
       "      <td>60.000000</td>\n",
       "      <td>128.000000</td>\n",
       "      <td>80.000000</td>\n",
       "      <td>261.000000</td>\n",
       "      <td>7.000000</td>\n",
       "      <td>144.000000</td>\n",
       "      <td>2.000000</td>\n",
       "    </tr>\n",
       "    <tr>\n",
       "      <th>75%</th>\n",
       "      <td>6.344040e+05</td>\n",
       "      <td>8.325650e+05</td>\n",
       "      <td>34888.000000</td>\n",
       "      <td>-29.000000</td>\n",
       "      <td>0.000000</td>\n",
       "      <td>120.000000</td>\n",
       "      <td>199.000000</td>\n",
       "      <td>89.000000</td>\n",
       "      <td>268.000000</td>\n",
       "      <td>18.000000</td>\n",
       "      <td>222.000000</td>\n",
       "      <td>4.000000</td>\n",
       "    </tr>\n",
       "    <tr>\n",
       "      <th>max</th>\n",
       "      <td>2.698535e+06</td>\n",
       "      <td>1.019025e+06</td>\n",
       "      <td>37443.000000</td>\n",
       "      <td>-10.000000</td>\n",
       "      <td>6.000000</td>\n",
       "      <td>180.000000</td>\n",
       "      <td>243.000000</td>\n",
       "      <td>100.000000</td>\n",
       "      <td>269.000000</td>\n",
       "      <td>28.000000</td>\n",
       "      <td>241.000000</td>\n",
       "      <td>29.000000</td>\n",
       "    </tr>\n",
       "  </tbody>\n",
       "</table>\n",
       "</div>"
      ],
      "text/plain": [
       "         id_student       id_site  id_assessment  date_registration  \\\n",
       "count  4.835370e+05  4.835370e+05  483537.000000      483537.000000   \n",
       "mean   7.119907e+05  7.249904e+05   28575.109431         -62.346881   \n",
       "std    5.644772e+05  1.311824e+05    8053.262105          39.911590   \n",
       "min    6.516000e+03  5.267210e+05    1752.000000        -172.000000   \n",
       "25%    5.013360e+05  5.510410e+05   24296.000000         -88.000000   \n",
       "50%    5.826700e+05  7.167450e+05   34861.000000         -52.000000   \n",
       "75%    6.344040e+05  8.325650e+05   34888.000000         -29.000000   \n",
       "max    2.698535e+06  1.019025e+06   37443.000000         -10.000000   \n",
       "\n",
       "       num_of_prev_attempts  studied_credits  date_submitted          score  \\\n",
       "count         483537.000000    483537.000000   483537.000000  483537.000000   \n",
       "mean               0.154559        78.875898      125.885227      76.641467   \n",
       "std                0.459023        33.088866       74.861275      17.501694   \n",
       "min                0.000000        30.000000       -8.000000       0.000000   \n",
       "25%                0.000000        60.000000       53.000000      67.000000   \n",
       "50%                0.000000        60.000000      128.000000      80.000000   \n",
       "75%                0.000000       120.000000      199.000000      89.000000   \n",
       "max                6.000000       180.000000      243.000000     100.000000   \n",
       "\n",
       "       module_presentation_length         weight           date      sum_click  \n",
       "count               483537.000000  483537.000000  483537.000000  483537.000000  \n",
       "mean                   254.939765       9.343591     140.691844       3.305985  \n",
       "std                     13.847519       9.595551      79.781176       4.182204  \n",
       "min                    234.000000       0.000000      12.000000       1.000000  \n",
       "25%                    240.000000       0.000000      54.000000       1.000000  \n",
       "50%                    261.000000       7.000000     144.000000       2.000000  \n",
       "75%                    268.000000      18.000000     222.000000       4.000000  \n",
       "max                    269.000000      28.000000     241.000000      29.000000  "
      ]
     },
     "execution_count": 15,
     "metadata": {},
     "output_type": "execute_result"
    }
   ],
   "source": [
    "df1 = df0.copy()\n",
    "for col in numeric_names:\n",
    "    lower = df1[col].quantile(0.025)\n",
    "    upper = df1[col].quantile(0.975)\n",
    "    df1 = df1[(df1[col] >= lower) & (df1[col] <= upper)]\n",
    "\n",
    "df1.describe()"
   ]
  },
  {
   "cell_type": "code",
   "execution_count": 16,
   "id": "eded06a4-7bd5-4979-965d-9d4db8e97c1e",
   "metadata": {},
   "outputs": [
    {
     "data": {
      "text/plain": [
       "(483537, 24)"
      ]
     },
     "execution_count": 16,
     "metadata": {},
     "output_type": "execute_result"
    }
   ],
   "source": [
    "df1.shape"
   ]
  },
  {
   "cell_type": "code",
   "execution_count": 17,
   "id": "8b604390-479b-4e49-a1ad-cec3ef5d55be",
   "metadata": {},
   "outputs": [
    {
     "data": {
      "image/png": "[encoded data removed]",
      "text/plain": [
       "<Figure size 500x500 with 1 Axes>"
      ]
     },
     "metadata": {},
     "output_type": "display_data"
    },
    {
     "data": {
      "image/png": "[encoded data removed]",
      "text/plain": [
       "<Figure size 500x500 with 1 Axes>"
      ]
     },
     "metadata": {},
     "output_type": "display_data"
    },
    {
     "data": {
      "image/png": "[encoded data removed]",
      "text/plain": [
       "<Figure size 500x500 with 1 Axes>"
      ]
     },
     "metadata": {},
     "output_type": "display_data"
    },
    {
     "data": {
      "image/png": "[encoded data removed]",
      "text/plain": [
       "<Figure size 500x500 with 1 Axes>"
      ]
     },
     "metadata": {},
     "output_type": "display_data"
    }
   ],
   "source": [
    "for col in numeric_names:\n",
    "    _ = sns.catplot(x = 'final_result', y = col, data = df1, kind = 'box')\n",
    "    _ = plt.xlabel('Final Result')\n",
    "    _ = plt.ylabel(f'{col}')\n",
    "    _ = plt.title(f'Boxplot: {col}')\n",
    "    plt.show()"
   ]
  },
  {
   "cell_type": "markdown",
   "id": "91e350f2-443e-4595-9a83-91239ff936bd",
   "metadata": {},
   "source": [
    "## Categorical binaries"
   ]
  },
  {
   "cell_type": "markdown",
   "id": "c777c50d-dd63-4aa1-90c9-d4ec8af41de3",
   "metadata": {},
   "source": [
    "Since there are only two values inputted for 'disability' and 'gender', the two will be binarily encoded.\n",
    "\n",
    "For 'disability', the absence of a disability (No) will be encoded to 0, where as the presence (Yes) will be encoded to 1.\n",
    "For 'gender', Male was chosen arbitrarily to be encoded as 0 and Female was chosen to be 1."
   ]
  },
  {
   "cell_type": "code",
   "execution_count": 20,
   "id": "8c1c4d0e",
   "metadata": {},
   "outputs": [],
   "source": [
    "df2 = df1.copy()\n",
    "df2['disability'].replace({'No': 0, 'Yes': 1}, inplace = True)\n",
    "df2['gender'].replace({'Male': 0, 'Female': 1}, inplace = True)"
   ]
  },
  {
   "cell_type": "markdown",
   "id": "0d70c058-2295-4618-b75b-429ef7da7caf",
   "metadata": {},
   "source": [
    "## Highest Education"
   ]
  },
  {
   "cell_type": "markdown",
   "id": "43c3234c-f963-4149-a6f9-0df6c83337af",
   "metadata": {},
   "source": [
    "Highest education in this instance may be considered ordinal since the various education levels may indicate different levels of investment or access with academic resources. Although all education levels should be treated equally successful in their respective categories, for these purposes of interacting in online academic programs, we cannot rule out prior experience with academic resources as confounding factor.\n",
    "\n",
    "Below is a translation of the academic levels in their order from least academic exposure to most:\n",
    "\n",
    "1. No formal quals: Did not complete any level of formal education like highschool\n",
    "2. Lower Than A Level: About equivalent to highschool but not enough for an Associates degree\n",
    "3. A level or Equivalent: About equivalent to early Bachelors degree but not completed\n",
    "4. HE Qualification: Bachelor's degree\n",
    "5. Post Graduate Qualification: Postgraduate certificates, Masters, PhD"
   ]
  },
  {
   "cell_type": "code",
   "execution_count": 23,
   "id": "5f702bf4-b2fa-4ab0-9a9d-8125ade484ff",
   "metadata": {},
   "outputs": [
    {
     "data": {
      "text/plain": [
       "highest_education\n",
       "A Level or Equivalent          228115\n",
       "Lower Than A Level             169291\n",
       "HE Qualification                80119\n",
       "No Formal quals                  3200\n",
       "Post Graduate Qualification      2812\n",
       "Name: count, dtype: int64"
      ]
     },
     "execution_count": 23,
     "metadata": {},
     "output_type": "execute_result"
    }
   ],
   "source": [
    "df2['highest_education'].value_counts()"
   ]
  },
  {
   "cell_type": "code",
   "execution_count": 24,
   "id": "d3959122-dce1-4d8f-ad2a-482d7c27976e",
   "metadata": {},
   "outputs": [
    {
     "data": {
      "text/plain": [
       "highest_education\n",
       "3    228115\n",
       "2    169291\n",
       "4     80119\n",
       "1      3200\n",
       "5      2812\n",
       "Name: count, dtype: int64"
      ]
     },
     "execution_count": 24,
     "metadata": {},
     "output_type": "execute_result"
    }
   ],
   "source": [
    "edu_levels = {'No Formal quals': 1,\n",
    "              'Lower Than A Level': 2,\n",
    "              'A Level or Equivalent': 3,\n",
    "              'HE Qualification': 4,\n",
    "              'Post Graduate Qualification': 5\n",
    "             }\n",
    "df3 = df2.copy()\n",
    "df3['highest_education'] = df3['highest_education'].replace(edu_levels)\n",
    "df3['highest_education'].value_counts()"
   ]
  },
  {
   "cell_type": "markdown",
   "id": "9a409d2e-7938-4898-9b68-a46e46a85b50",
   "metadata": {},
   "source": [
    "## Aggregates\n",
    "\n",
    "The two of the top 10 predicting variables during the RandomForest exploration were 'date' and 'sum_click'.\n",
    "\n",
    "While 'date' is a duration length relative to the start of the module, it only serves as a marker for each day of interaction with each activity the students interacted with per assessment; making it more of a categorical feature than numeric. For this reason, 'date' will be aggregated as a count of the number of days interacting with the material. This may quantify the level interaction with each activity type.\n",
    "\n",
    "Similarly, 'sum_click' is the number of clicks per recorded day. Since the reference date will be removed by the aggregation, 'sum_click' will be aggregated to the total number of clicks per activity to retain the nature of the feature."
   ]
  },
  {
   "cell_type": "code",
   "execution_count": 26,
   "id": "b16069aa-cedc-4a3a-ab43-8ebc4e1b4414",
   "metadata": {},
   "outputs": [],
   "source": [
    "new_click_cols = df3.groupby(['id_assessment', 'id_student', 'activity_type']).agg(\n",
    "    days_active = ('date', 'count'),\n",
    "    total_clicks = ('sum_click', 'sum')\n",
    ")\n",
    "new_clicks = new_click_cols.reset_index()"
   ]
  },
  {
   "cell_type": "code",
   "execution_count": 27,
   "id": "73e89f39-0622-4031-ba01-8ffe4d7a1f72",
   "metadata": {},
   "outputs": [],
   "source": [
    "df4 = df3.merge(new_clicks, on = ['id_assessment', 'id_student', 'activity_type'])"
   ]
  },
  {
   "cell_type": "markdown",
   "id": "d387f23e-13d8-4ad9-afa4-789e69706b50",
   "metadata": {},
   "source": [
    "### Assessment Duration\n",
    "\n",
    "The 'date_submitted' column is a numeric feature that indicates the date the assessment was submitted since the start of the module. Unlike 'date' which served as a reference marker for interactions, this date can be used as more of a duration than marker. Changing the name is more for the user experience to avoid future confusion."
   ]
  },
  {
   "cell_type": "code",
   "execution_count": 29,
   "id": "b5c36c6e-0e28-44dc-a2a1-9966b6b0c4e0",
   "metadata": {},
   "outputs": [],
   "source": [
    "df5 = df4.rename(columns = {'date_submitted': 'assessment_duration'})"
   ]
  },
  {
   "cell_type": "markdown",
   "id": "66dc5988-c535-4c86-a029-54a36aada6f6",
   "metadata": {},
   "source": [
    "## Dropping redundancies and columns\n",
    "\n",
    "Since 'date' and 'sum_click' both have already been aggregated earlier in df 4, these two columns will be dropped. Additionally, 'is_banked' is more of an administrative feature that is neither a direct identifier of the student nor is it the direct result of the students' actions. Analyzing whether or not an assessment of the student's will reduce the focus in the model away from the more likely predictors of student success for this program. Lastly, 'weight', 'code_module', 'code_presentation', and 'id_site' are all characteristics of 'id_assessment'. These characteristic features will be dropped since they will still have representation through the 'id_assessment'. Although 'module_presentation_length' is a numeric feature, it will be removed from consideration for similar reasons as 'weight'; also duration per assessment is already being considered in 'assessment_duration'."
   ]
  },
  {
   "cell_type": "code",
   "execution_count": 31,
   "id": "2e5e6aae-67d8-4ea3-be7b-7ddfd1ea0168",
   "metadata": {},
   "outputs": [],
   "source": [
    "df6 = df5.drop(columns = ['date', 'sum_click', 'is_banked', 'weight', 'module_presentation_length', 'code_module', 'code_presentation', 'id_site', 'assessment_type'])"
   ]
  },
  {
   "cell_type": "code",
   "execution_count": 32,
   "id": "a414a83c-d915-4135-9f64-222a54a61c88",
   "metadata": {},
   "outputs": [],
   "source": [
    "df7 = df6.drop_duplicates()"
   ]
  },
  {
   "cell_type": "markdown",
   "id": "094b6069-281c-46d0-a73b-2da11bd989c5",
   "metadata": {},
   "source": [
    "## Identifier\n",
    "\n",
    "There are now two unique categorical identifiers: 'id_student' and 'id_assessment'. Both features serve no numeric purpose and only distinguish sets of data from one another. The purpose of this study is to identify the features most important to student success through interaction with the material or demographic information. Aggregate features will be created per student to control for the assessment identity."
   ]
  },
  {
   "cell_type": "markdown",
   "id": "4d1a91fc-5b22-4033-ad0e-5188338e7308",
   "metadata": {},
   "source": [
    "### Features to aggregate\n",
    "Not all numeric features (e.g. 'num_of_prev_attempts') need to be aggregated since they are specific identifiers that do not change between 'id_student', 'id_assessment', or 'activity_type'.\n",
    "\n",
    "Aggregating features\n",
    "* 'score': average score per assessment\n",
    "* 'days_active': average days activity per activity_type per assessment, total number of days active per activity type\n",
    "* 'total_clicks': average total clicks per activity_type per assessment, total number of clicks per activity type\n",
    "* 'assessment_duration': average time taken per assessment, max_time taken per assessment"
   ]
  },
  {
   "cell_type": "markdown",
   "id": "8e97eb8e-d53d-4957-bfd3-27f947e22d81",
   "metadata": {},
   "source": [
    "### Score and Assessment Duration"
   ]
  },
  {
   "cell_type": "code",
   "execution_count": 36,
   "id": "c0ece20b-60cd-424f-97d7-0ca73777fe98",
   "metadata": {},
   "outputs": [],
   "source": [
    "assess_col = df7.groupby(['id_student']).agg(\n",
    "    mean_score = ('score', 'mean'),\n",
    "    mean_assessment_length = ('assessment_duration', 'mean'),\n",
    "    max_assessment_length = ('assessment_duration', 'max')\n",
    ")\n",
    "assess_col.reset_index(inplace = True)"
   ]
  },
  {
   "cell_type": "markdown",
   "id": "7814a6fd-9bec-4f68-8702-b408a45074d7",
   "metadata": {},
   "source": [
    "### Activity levels"
   ]
  },
  {
   "cell_type": "code",
   "execution_count": 38,
   "id": "c667d080",
   "metadata": {},
   "outputs": [],
   "source": [
    "act_col = df7.groupby(['id_student', 'activity_type']).agg(\n",
    "    mean_active = ('days_active', 'mean'),\n",
    "    total_active = ('days_active', 'sum'),\n",
    "    mean_clicks = ('total_clicks', 'mean'),\n",
    "    clicks = ('total_clicks', 'sum')\n",
    ")\n",
    "act_col.reset_index(inplace = True)"
   ]
  },
  {
   "cell_type": "markdown",
   "id": "5933dcf2-e39c-480b-86f8-84c145d9444c",
   "metadata": {},
   "source": [
    "### Merging and Dropping"
   ]
  },
  {
   "cell_type": "code",
   "execution_count": 40,
   "id": "8bc9400a-5b48-4c96-a8fd-95b907358280",
   "metadata": {},
   "outputs": [],
   "source": [
    "df8 = df7.merge(assess_col, on = 'id_student') \\\n",
    "    .merge(act_col, on = ['id_student', 'activity_type'])"
   ]
  },
  {
   "cell_type": "code",
   "execution_count": 41,
   "id": "1d2b8d3f-4d58-4e4b-b1cb-0050f95119d6",
   "metadata": {},
   "outputs": [],
   "source": [
    "df9 = df8.drop(columns = ['id_assessment', 'days_active', 'total_clicks', 'score', 'assessment_duration'])"
   ]
  },
  {
   "cell_type": "code",
   "execution_count": 42,
   "id": "5ab7a792-4d8f-4fd1-9c6c-25d4d26faafd",
   "metadata": {},
   "outputs": [
    {
     "data": {
      "text/plain": [
       "(72305, 19)"
      ]
     },
     "execution_count": 42,
     "metadata": {},
     "output_type": "execute_result"
    }
   ],
   "source": [
    "df10 = df9.drop_duplicates()\n",
    "df10.shape"
   ]
  },
  {
   "cell_type": "markdown",
   "id": "b01a0257-9278-4574-9a32-1706ddc20db1",
   "metadata": {},
   "source": [
    "# Encoding\n",
    "\n",
    "Now that that data has been aggregated and cleaned, the categorical variables need to be encoded. Some of the features were previously handled, however 'age_band', 'region', 'imd_band', and 'activity_type' still need to be encoded. The features 'age_band' and 'imd_band' are ordinal so they can be encoded based on their value levels starting at 1. The remaining two will need to be OneHot Encoded."
   ]
  },
  {
   "cell_type": "code",
   "execution_count": 44,
   "id": "08d7061e-527b-4f8b-aa62-fa54b855de71",
   "metadata": {},
   "outputs": [],
   "source": [
    "df11 = df10.copy()\n",
    "df11['age_band'].replace({'0-35': 1, '35-55': 2, '55<=': 3}, inplace = True)"
   ]
  },
  {
   "cell_type": "code",
   "execution_count": 45,
   "id": "1db02213-a855-46a9-9210-4b2c455a78d4",
   "metadata": {},
   "outputs": [],
   "source": [
    "df11['imd_band'].replace({'50-60%': 5,\n",
    "                          '10-20%': 1,\n",
    "                          '40-50%': 4,\n",
    "                          '60-70%': 6,\n",
    "                          '90-100%': 9,\n",
    "                          '30-40%': 3,\n",
    "                          '70-80%': 7,\n",
    "                          '20-30%': 2,\n",
    "                          '0-10%': 0,\n",
    "                          '80-90%': 8},\n",
    "                         inplace = True\n",
    "                        )"
   ]
  },
  {
   "cell_type": "markdown",
   "id": "1049eddc-5218-4b87-9c44-8d4d8ab03d24",
   "metadata": {},
   "source": [
    "#### Update as of 06/23/24\n",
    "\n",
    "Activity and regions have been serverly undervalued, therefore, I have found a encoding technique used in Kaggle competitions that encode values using their counts to simulate their weights. I do not want their encdings to lessen their weights like it has shown so far with my initial rf and in trying to model during 28.3.\n",
    "\n",
    "https://www.youtube.com/watch?v=MPnNC6kkNC4\n",
    "\n",
    "ohe = OneHotEncoder()\n",
    "ohe_cols = ohe.fit_transform(df11[['region', 'activity_type']])\n",
    "feat_names = ohe.get_feature_names_out(['region', 'activity_type'])\n",
    "ohe_df = pd.DataFrame(ohe_cols.toarray(), columns = feat_names)\n",
    "df12 = pd.concat([df11, ohe_df], axis = 1)\n",
    "df13 = df12.drop(columns = ['region', 'activity_type'])"
   ]
  },
  {
   "cell_type": "code",
   "execution_count": 47,
   "id": "f54e3b30-194d-4cf1-bbba-c288849cf0a4",
   "metadata": {},
   "outputs": [],
   "source": [
    "region_map = df11['region'].value_counts().to_dict()\n",
    "activity_map = df11['activity_type'].value_counts().to_dict()"
   ]
  },
  {
   "cell_type": "code",
   "execution_count": 48,
   "id": "b5fcb10c-a531-47a8-982e-c79a13288656",
   "metadata": {},
   "outputs": [],
   "source": [
    "df12 = df11.copy()\n",
    "df12['region'] = df12['region'].map(region_map)\n",
    "df12['activity_type'] = df12['activity_type'].map(activity_map)"
   ]
  },
  {
   "cell_type": "code",
   "execution_count": 49,
   "id": "df817c2e-bd0f-4b22-81fe-695f637dc4ee",
   "metadata": {},
   "outputs": [],
   "source": [
    "with open('region_map.pkl', 'wb') as f:\n",
    "    pickle.dump(region_map, f)\n",
    "\n",
    "with open('activity_map.pkl', 'wb') as file:\n",
    "    pickle.dump(activity_map, file)"
   ]
  },
  {
   "cell_type": "code",
   "execution_count": 50,
   "id": "e92bb1ec-0eda-4a99-a4b6-ff8cba83cb1e",
   "metadata": {},
   "outputs": [],
   "source": [
    "df14 = df12.dropna()"
   ]
  },
  {
   "cell_type": "code",
   "execution_count": 51,
   "id": "fbd6ba98-7ad3-418d-aa82-6e20655b36a0",
   "metadata": {},
   "outputs": [],
   "source": [
    "bool_col = df14.filter(regex = 'region_*|activity_type_*').columns"
   ]
  },
  {
   "cell_type": "code",
   "execution_count": 52,
   "id": "386ad169-da3d-4889-b492-f9e74403fbc8",
   "metadata": {},
   "outputs": [],
   "source": [
    "df15 = df14.astype(\n",
    "    {\n",
    "        'id_student': 'int',\n",
    "        'gender': 'int',\n",
    "        'disability': 'int',\n",
    "        'age_band': 'int',\n",
    "        'imd_band': 'int',\n",
    "        'highest_education': 'int',\n",
    "        'date_registration': 'int',\n",
    "        'num_of_prev_attempts': 'int',\n",
    "        'studied_credits': 'int'\n",
    "    }\n",
    ")\n",
    "for col in bool_col:\n",
    "    df15[col] = df15[col].astype('int')"
   ]
  },
  {
   "cell_type": "code",
   "execution_count": 53,
   "id": "248d1826-affb-4a1a-8232-43e4269638d5",
   "metadata": {},
   "outputs": [
    {
     "data": {
      "text/plain": [
       "(72305, 19)"
      ]
     },
     "execution_count": 53,
     "metadata": {},
     "output_type": "execute_result"
    }
   ],
   "source": [
    "df = df15.reset_index(drop = True)\n",
    "df.shape"
   ]
  },
  {
   "cell_type": "code",
   "execution_count": 98,
   "id": "e040cd92-177e-4ab0-9038-3595bdba9fc4",
   "metadata": {},
   "outputs": [],
   "source": [
    "df.to_csv('capstone_2_modeling_v2.csv')"
   ]
  },
  {
   "cell_type": "markdown",
   "id": "38b57b4d-e137-46f1-9da9-095d158157b1",
   "metadata": {},
   "source": [
    "# Splitting the Data\n",
    "\n",
    "Now that the data has been encoded, it can now be split into its respective x and y variables. The 'final_result' feature was left untouched since it was the response variable to all the other features. For x data, 'id_student' will be dropped since it serves as more of a categorical variable.\n",
    "\n",
    "Since the data points were originally ordered by assessment and student, I will need to shuffle the train_test to make sure students at the bottom of the df do not unnecessarily get cut."
   ]
  },
  {
   "cell_type": "code",
   "execution_count": 56,
   "id": "7fd1d1f7-c3ee-4c5a-9d1a-22b63b3cf38a",
   "metadata": {},
   "outputs": [],
   "source": [
    "x = df.drop(columns = ['id_student', 'final_result'])\n",
    "y = df[['final_result']]\n",
    "\n",
    "x_train, x_test, y_train, y_test = train_test_split(x, y, random_state = 6022, stratify = y, test_size = 0.25, shuffle = True)"
   ]
  },
  {
   "cell_type": "markdown",
   "id": "76a8233e-4636-401c-b3ef-b73e1668caab",
   "metadata": {},
   "source": [
    "# Scaling\n",
    "\n",
    "Despite encoding, a few columns are still beyond a comparable scope of eachother. A StandardScaler will be applied to ensure that all values are comparable."
   ]
  },
  {
   "cell_type": "code",
   "execution_count": 58,
   "id": "63b55c86-0c42-468b-91db-38cdb655fd36",
   "metadata": {},
   "outputs": [],
   "source": [
    "scaler = Normalizer()\n",
    "scaler_model = scaler.fit(x_train)"
   ]
  },
  {
   "cell_type": "code",
   "execution_count": 59,
   "id": "c5dfdacb-a29d-48de-8f69-ef1426cc6c2f",
   "metadata": {},
   "outputs": [],
   "source": [
    "x_train_scale = scaler_model.transform(x_train)\n",
    "x_test_scale = scaler_model.transform(x_test)"
   ]
  },
  {
   "cell_type": "markdown",
   "id": "005c5821-0ca2-4251-adc1-3fff80dfce31",
   "metadata": {},
   "source": [
    "# Conclusion\n",
    "\n",
    "The data has been cleaned, encoded, and split into training and testing sets. From here the modeling required is most likely KNN, decision tree analysis, and/or logistic regression to determine the predicting features."
   ]
  }
 ],
 "metadata": {
  "kernelspec": {
   "display_name": "Python 3 (ipykernel)",
   "language": "python",
   "name": "python3"
  },
  "language_info": {
   "codemirror_mode": {
    "name": "ipython",
    "version": 3
   },
   "file_extension": ".py",
   "mimetype": "text/x-python",
   "name": "python",
   "nbconvert_exporter": "python",
   "pygments_lexer": "ipython3",
   "version": "3.11.9"
  }
 },
 "nbformat": 4,
 "nbformat_minor": 5
}
